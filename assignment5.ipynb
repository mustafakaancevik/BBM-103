{
 "cells": [
  {
   "cell_type": "code",
   "execution_count": 1,
   "id": "e48f7f42",
   "metadata": {},
   "outputs": [
    {
     "name": "stdout",
     "output_type": "stream",
     "text": [
      "c\n"
     ]
    }
   ],
   "source": [
    "import pandas as pd\n",
    "import numpy as np\n",
    "import matplotlib.pyplot as plot\n",
    "import time\n",
    "\n",
    "df = pd.read_csv('16P.csv',encoding=\"macroman\")\n",
    "df_data = df.head(59999)\n",
    "print(\"c\")\n",
    "index_ = df_data.Personality\n",
    "df_data.index = index_\n",
    "df_new = df_data.drop(columns=['Response Id'])\n",
    "\n",
    "df_new.loc[df_new['Personality'] == 'ESTJ', 'Personality'] = 0\n",
    "df_new.loc[df_new['Personality'] == 'ENTJ', 'Personality'] = 1\n",
    "df_new.loc[df_new['Personality'] == 'ESFJ', 'Personality'] = 2\n",
    "df_new.loc[df_new['Personality'] == 'ENFJ', 'Personality'] = 3\n",
    "df_new.loc[df_new['Personality'] == 'ISTJ', 'Personality'] = 4\n",
    "df_new.loc[df_new['Personality'] == 'ISFJ', 'Personality'] = 5\n",
    "df_new.loc[df_new['Personality'] == 'INTJ', 'Personality'] = 6\n",
    "df_new.loc[df_new['Personality'] == 'INFJ', 'Personality'] = 7\n",
    "df_new.loc[df_new['Personality'] == 'ESTP', 'Personality'] = 8\n",
    "df_new.loc[df_new['Personality'] == 'ESFP', 'Personality'] = 9\n",
    "df_new.loc[df_new['Personality'] == 'ENTP', 'Personality'] = 10\n",
    "df_new.loc[df_new['Personality'] == 'ENFP', 'Personality'] = 11\n",
    "df_new.loc[df_new['Personality'] == 'ISTP', 'Personality'] = 12\n",
    "df_new.loc[df_new['Personality'] == 'ISFP', 'Personality'] = 13\n",
    "df_new.loc[df_new['Personality'] == 'INTP', 'Personality'] = 14\n",
    "df_new.loc[df_new['Personality'] == 'INFP', 'Personality'] = 15"
   ]
  },
  {
   "cell_type": "code",
   "execution_count": 2,
   "id": "77f52297",
   "metadata": {},
   "outputs": [],
   "source": [
    "data = np.array(df_new)\n",
    "new = np.array(data[:,-1])\n",
    "new = np.reshape(new,(len(data),1))\n",
    "normalizedData = (data[:,:-1]-np.min(data[:,:-1]))/(np.max(data[:,:-1])-np.min(data[:,:-1]))\n",
    "normalizedData = np.append(normalizedData,new,axis=1)\n",
    "data = np.array(data,dtype='int64')\n",
    "normalizedData = np.array(normalizedData,dtype='int64')\n",
    "fold1 = data[:int(len(data)//5)]\n",
    "fold2 = data[int(len(data)//5):int(len(data)//5)*2]\n",
    "fold3 = data[int(len(data)//5)*2:int(len(data)//5)*3]\n",
    "fold4 = data[int(len(data)//5)*3:int(len(data)//5)*4]\n",
    "fold5 = data[int(len(data)//5)*4:]\n",
    "train1 = np.vstack((fold2,fold3,fold4,fold5))\n",
    "train2 = np.vstack((fold1,fold3,fold4,fold5))\n",
    "train3 = np.vstack((fold1,fold2,fold4,fold5))\n",
    "train4 = np.vstack((fold1,fold2,fold3,fold5))\n",
    "train5 = np.vstack((fold1,fold2,fold3,fold4))\n",
    "nfold1 = normalizedData[:int(len(data)//5)]\n",
    "nfold2 = normalizedData[int(len(data)//5):int(len(data)//5)*2]\n",
    "nfold3 = normalizedData[int(len(data)//5)*2:int(len(data)//5)*3]\n",
    "nfold4 = normalizedData[int(len(data)//5)*3:int(len(data)//5)*4]\n",
    "nfold5 = normalizedData[int(len(data)//5)*4:]\n",
    "ntrain1 = np.vstack((nfold2,nfold3,nfold4,nfold5))\n",
    "ntrain2 = np.vstack((nfold1,nfold3,nfold4,nfold5))\n",
    "ntrain3 = np.vstack((nfold1,nfold2,nfold4,nfold5))\n",
    "ntrain4 = np.vstack((nfold1,nfold2,nfold3,nfold5))\n",
    "ntrain5 = np.vstack((nfold1,nfold2,nfold3,nfold4))\n",
    "folders = [(fold1,train1),(fold2,train2),(fold3,train3),(fold4,train4),(fold5,train5)]\n",
    "nfolders = [(nfold1,ntrain1),(nfold2,ntrain2),(nfold3,ntrain3),(nfold4,ntrain4),(nfold5,ntrain5)]"
   ]
  },
  {
   "cell_type": "code",
   "execution_count": 3,
   "id": "9e0b3c65",
   "metadata": {},
   "outputs": [],
   "source": [
    "def euclidian_distances(fold, train):\n",
    "    x2 = np.sum(fold**2, axis=1)\n",
    "    y2 = np.sum(train**2, axis=1)\n",
    "    xy = np.matmul(fold, train.T)\n",
    "    x2 = x2.reshape(-1,1)\n",
    "    distance = (x2 -2*xy + y2)**0.5\n",
    "    return distance"
   ]
  },
  {
   "cell_type": "code",
   "execution_count": 4,
   "id": "9be1c68f",
   "metadata": {},
   "outputs": [],
   "source": [
    "def sort(fold,train,k):\n",
    "    global time10\n",
    "    dist = euclidian_distances(fold,train)\n",
    "    a = np.argsort(dist)\n",
    "    b = train[:,60][a]\n",
    "    u, indices = np.unique(b[:,:k], return_inverse=True)\n",
    "    c = u[np.argmax(np.apply_along_axis(np.bincount, 1, indices.reshape(b[:,:k].shape),\n",
    "                                    None, np.max(indices) + 1), axis=1)]\n",
    "    \n",
    "    arr = np.stack((fold[:,60],c),axis = 1)\n",
    "    q = np.where(arr[:,0] != arr[:,1])\n",
    "    print(f\"Prediction: {arr[q][0][1]} True Value: {arr[q][0][0]}, List of Predictions: {b[q][0][:k]}\")\n",
    "\n",
    "    return arr\n",
    "\n",
    "\n",
    "daccur = []\n",
    "dprec = []\n",
    "drecall = []\n",
    "naccur = []\n",
    "nprec = []\n",
    "nrecall = []"
   ]
  },
  {
   "cell_type": "code",
   "execution_count": null,
   "id": "37b3b3ff",
   "metadata": {},
   "outputs": [],
   "source": []
  },
  {
   "cell_type": "code",
   "execution_count": 5,
   "id": "78f1d5ec",
   "metadata": {},
   "outputs": [],
   "source": [
    "time3 = time.time()\n",
    "def kNN_algorithm(folder,accur,prec,recall,k):\n",
    "    global conf_modal1\n",
    "    Overall_recall,Overall_precision,Overall_accuracy = 0,0,0\n",
    "    for m,n in folder:\n",
    "        j = sort(m,n,k)\n",
    "        j = j.tolist()\n",
    "        overall_recall,overall_precision,overall_accuracy = 0,0,0\n",
    "        classes = pd.DataFrame(j, columns=['Actual_Class','Pred_Class'])\n",
    "        conf_modal1 = pd.crosstab(classes.Pred_Class,classes.Actual_Class)\n",
    "        for i in range(conf_modal1.shape[0]):\n",
    "            TP = conf_modal1.iloc[i,i]\n",
    "            FP = conf_modal1.iloc[i,:].sum() - TP\n",
    "            FN = conf_modal1.iloc[:,i].sum()- TP\n",
    "            TN = conf_modal1.sum().sum()-TP-FP-FN\n",
    "            Accuracy1 = (TP+TN)/conf_modal1.sum().sum()\n",
    "            Precision1 = TP/(TP+FP)\n",
    "            Recall1 = TP/(TP+FN)\n",
    "            overall_recall += Recall1\n",
    "            overall_precision += Precision1\n",
    "            overall_accuracy += Accuracy1\n",
    "        Overall_accuracy += overall_accuracy\n",
    "        Overall_precision += overall_precision\n",
    "        Overall_recall += overall_recall\n",
    "    accur.append(Overall_accuracy/80)\n",
    "    prec.append(Overall_precision/80)\n",
    "    recall.append(Overall_recall/80)"
   ]
  },
  {
   "cell_type": "markdown",
   "id": "41f40e82",
   "metadata": {},
   "source": [
    "# ERROR ANALYSIS FOR CLASSIFICATION"
   ]
  },
  {
   "cell_type": "markdown",
   "id": "6e9a57ac",
   "metadata": {},
   "source": [
    "  Our kNN algorithm's performance going to up when the value of k increases. We can see results on the graphs and dataframes. Also if our data is increased,like 1 million not 60k, our accuracys,precisions and recalls going up. Every change on the folders,datas or value of k effects our kNN algorithm."
   ]
  },
  {
   "cell_type": "code",
   "execution_count": 6,
   "id": "20e674da",
   "metadata": {
    "scrolled": true
   },
   "outputs": [
    {
     "name": "stdout",
     "output_type": "stream",
     "text": [
      "Value of k: 1\n",
      "Prediction: 7 True Value: 4, List of Predictions: [7]\n",
      "Prediction: 6 True Value: 7, List of Predictions: [6]\n",
      "Prediction: 9 True Value: 7, List of Predictions: [9]\n",
      "Prediction: 0 True Value: 2, List of Predictions: [0]\n",
      "Prediction: 13 True Value: 14, List of Predictions: [13]\n",
      "Value of k: 3\n",
      "Prediction: 7 True Value: 4, List of Predictions: [7 7 7]\n",
      "Prediction: 5 True Value: 9, List of Predictions: [5 5 5]\n",
      "Prediction: 9 True Value: 7, List of Predictions: [9 9 7]\n",
      "Prediction: 0 True Value: 2, List of Predictions: [0 0 2]\n",
      "Prediction: 3 True Value: 0, List of Predictions: [3 3 3]\n",
      "Value of k: 5\n",
      "Prediction: 7 True Value: 4, List of Predictions: [7 7 7 7 7]\n",
      "Prediction: 5 True Value: 9, List of Predictions: [ 5  5  5 12  5]\n",
      "Prediction: 9 True Value: 7, List of Predictions: [9 9 7 5 3]\n",
      "Prediction: 0 True Value: 2, List of Predictions: [0 0 2 4 3]\n",
      "Prediction: 3 True Value: 0, List of Predictions: [3 3 3 3 3]\n",
      "Value of k: 7\n",
      "Prediction: 7 True Value: 4, List of Predictions: [7 7 7 7 7 7 7]\n",
      "Prediction: 5 True Value: 9, List of Predictions: [ 5  5  5 12  5  5  5]\n",
      "Prediction: 12 True Value: 13, List of Predictions: [13 13 12 12 14 12 13]\n",
      "Prediction: 0 True Value: 2, List of Predictions: [0 0 2 4 3 4 2]\n",
      "Prediction: 3 True Value: 0, List of Predictions: [3 3 3 3 3 3 3]\n",
      "Value of k: 9\n",
      "Prediction: 7 True Value: 4, List of Predictions: [7 7 7 7 7 7 7 7 7]\n",
      "Prediction: 5 True Value: 9, List of Predictions: [ 5  5  5 12  5  5  5  5  5]\n",
      "Prediction: 4 True Value: 7, List of Predictions: [9 9 7 5 3 4 7 4 5]\n",
      "Prediction: 4 True Value: 2, List of Predictions: [0 0 2 4 3 4 2 4 1]\n",
      "Prediction: 3 True Value: 0, List of Predictions: [3 3 3 3 3 3 3 3 3]\n",
      "2841.487062931061\n"
     ]
    }
   ],
   "source": [
    "time1 = time.time()\n",
    "for k in range(1,10,2):\n",
    "    print(f\"Value of k: {k}\")\n",
    "    kNN_algorithm(folders,daccur,dprec,drecall,k)\n",
    "time2= time.time()\n",
    "print(time2-time1)"
   ]
  },
  {
   "cell_type": "markdown",
   "id": "7d1ab4fd",
   "metadata": {},
   "source": [
    "I gave 5 examples for each values of k. You can see the errors. We can see some of prediction lists have true value but the most frequent value is not true value. If our data more bigger then given data, our accuracy will be increase."
   ]
  },
  {
   "cell_type": "code",
   "execution_count": 7,
   "id": "14f76c31",
   "metadata": {
    "scrolled": true
   },
   "outputs": [
    {
     "name": "stdout",
     "output_type": "stream",
     "text": [
      "Value of k: 1\n",
      "Prediction: 10 True Value: 9, List of Predictions: [10]\n",
      "Prediction: 11 True Value: 10, List of Predictions: [11]\n",
      "Prediction: 3 True Value: 2, List of Predictions: [3]\n",
      "Prediction: 3 True Value: 2, List of Predictions: [3]\n",
      "Prediction: 5 True Value: 4, List of Predictions: [5]\n",
      "Value of k: 3\n",
      "Prediction: 13 True Value: 12, List of Predictions: [12 13 13]\n",
      "Prediction: 3 True Value: 4, List of Predictions: [3 3 4]\n",
      "Prediction: 11 True Value: 10, List of Predictions: [10 11 11]\n",
      "Prediction: 13 True Value: 14, List of Predictions: [14 15 13]\n",
      "Prediction: 2 True Value: 3, List of Predictions: [2 2 4]\n",
      "Value of k: 5\n",
      "Prediction: 8 True Value: 9, List of Predictions: [8 8 8 8 8]\n",
      "Prediction: 8 True Value: 7, List of Predictions: [8 7 7 8 8]\n",
      "Prediction: 10 True Value: 9, List of Predictions: [10 10 10 10 10]\n",
      "Prediction: 1 True Value: 2, List of Predictions: [1 1 1 2 2]\n",
      "Prediction: 2 True Value: 3, List of Predictions: [2 2 4 3 3]\n",
      "Value of k: 7\n",
      "Prediction: 8 True Value: 9, List of Predictions: [8 8 8 8 8 8 9]\n",
      "Prediction: 5 True Value: 6, List of Predictions: [5 6 5 5 6 5 6]\n",
      "Prediction: 10 True Value: 9, List of Predictions: [10 10 10 10 10 10 10]\n",
      "Prediction: 11 True Value: 12, List of Predictions: [12 11 11 13 11 12 12]\n",
      "Prediction: 6 True Value: 7, List of Predictions: [6 7 6 8 7 7 6]\n",
      "Value of k: 9\n",
      "Prediction: 8 True Value: 9, List of Predictions: [8 8 8 8 8 8 9 9 9]\n",
      "Prediction: 8 True Value: 7, List of Predictions: [8 7 8 8 8 8 7 7 7]\n",
      "Prediction: 10 True Value: 9, List of Predictions: [10 10 10 10 10 10 10 10  9]\n",
      "Prediction: 15 True Value: 14, List of Predictions: [14 14 15 13 14 15 13 15 15]\n",
      "Prediction: 2 True Value: 3, List of Predictions: [3 3 2 3 2 2 2 2 3]\n",
      "3886.574270963669\n"
     ]
    }
   ],
   "source": [
    "time3= time.time()\n",
    "for k in range(1,10,2):\n",
    "    print(f\"Value of k: {k}\")\n",
    "    kNN_algorithm(nfolders,naccur,nprec,nrecall,k)\n",
    "time4= time.time()\n",
    "print(time4-time3)"
   ]
  },
  {
   "cell_type": "markdown",
   "id": "387ff9ee",
   "metadata": {},
   "source": [
    "I gave 5 examples for each values of k. You can see the errors. We can see some of prediction lists have true value but the most frequent value is not true value. If our data more bigger then given data, our accuracy will be increase."
   ]
  },
  {
   "cell_type": "code",
   "execution_count": 8,
   "id": "4f4bf072",
   "metadata": {},
   "outputs": [
    {
     "data": {
      "text/html": [
       "<div>\n",
       "<style scoped>\n",
       "    .dataframe tbody tr th:only-of-type {\n",
       "        vertical-align: middle;\n",
       "    }\n",
       "\n",
       "    .dataframe tbody tr th {\n",
       "        vertical-align: top;\n",
       "    }\n",
       "\n",
       "    .dataframe thead th {\n",
       "        text-align: right;\n",
       "    }\n",
       "</style>\n",
       "<table border=\"1\" class=\"dataframe\">\n",
       "  <thead>\n",
       "    <tr style=\"text-align: right;\">\n",
       "      <th></th>\n",
       "      <th>Time(second)</th>\n",
       "    </tr>\n",
       "  </thead>\n",
       "  <tbody>\n",
       "    <tr>\n",
       "      <th>Normal Data</th>\n",
       "      <td>2841.487063</td>\n",
       "    </tr>\n",
       "    <tr>\n",
       "      <th>Normalized Data</th>\n",
       "      <td>3886.574271</td>\n",
       "    </tr>\n",
       "  </tbody>\n",
       "</table>\n",
       "</div>"
      ],
      "text/plain": [
       "                 Time(second)\n",
       "Normal Data       2841.487063\n",
       "Normalized Data   3886.574271"
      ]
     },
     "execution_count": 8,
     "metadata": {},
     "output_type": "execute_result"
    }
   ],
   "source": [
    "timen = time2-time1\n",
    "timed = time4-time3\n",
    "times = [timen,timed]\n",
    "timeframe = pd.DataFrame(times,index=['Normal Data','Normalized Data'],columns=['Time(second)'])\n",
    "timeframe"
   ]
  },
  {
   "cell_type": "code",
   "execution_count": 9,
   "id": "6301ff0c",
   "metadata": {
    "scrolled": true
   },
   "outputs": [
    {
     "data": {
      "image/png": "[encoded data removed]",
      "text/plain": [
       "<Figure size 640x480 with 6 Axes>"
      ]
     },
     "metadata": {},
     "output_type": "display_data"
    }
   ],
   "source": [
    "fig, axs = plot.subplots(3, 2)\n",
    "x = range(1,10,2)\n",
    "y = [daccur,dprec,drecall,naccur,nprec,nrecall]\n",
    "axs[0, 0].plot(x, y[0])\n",
    "axs[0, 0].set_title('Unnormalized Data\\nAccuracy')\n",
    "axs[0, 1].plot(x, y[3], 'tab:orange')\n",
    "axs[0, 1].set_title('Normalized Data\\nAccuracy')\n",
    "axs[1, 0].plot(x, y[1], 'tab:green')\n",
    "axs[1, 0].set_title('Precision')\n",
    "axs[1, 1].plot(x, y[4], 'tab:red')\n",
    "axs[1, 1].set_title('Precision')\n",
    "axs[2, 0].plot(x, y[2], 'tab:green')\n",
    "axs[2, 0].set_title('Recall')\n",
    "axs[2, 1].plot(x, y[5], 'tab:red')\n",
    "axs[2, 1].set_title('Recall')\n",
    "for ax in axs.flat:\n",
    "    ax.set(xlabel='k Values')\n",
    "\n",
    "for ax in axs.flat:\n",
    "    ax.label_outer()"
   ]
  },
  {
   "cell_type": "code",
   "execution_count": 10,
   "id": "09ffd081",
   "metadata": {
    "scrolled": true
   },
   "outputs": [
    {
     "data": {
      "text/html": [
       "<style type=\"text/css\">\n",
       "</style>\n",
       "<table id=\"T_3e9ef\">\n",
       "  <caption>NORMAL DATA</caption>\n",
       "  <thead>\n",
       "    <tr>\n",
       "      <th class=\"blank level0\" >&nbsp;</th>\n",
       "      <th id=\"T_3e9ef_level0_col0\" class=\"col_heading level0 col0\" >Accuracy</th>\n",
       "      <th id=\"T_3e9ef_level0_col1\" class=\"col_heading level0 col1\" >Precision</th>\n",
       "      <th id=\"T_3e9ef_level0_col2\" class=\"col_heading level0 col2\" >Recall</th>\n",
       "    </tr>\n",
       "  </thead>\n",
       "  <tbody>\n",
       "    <tr>\n",
       "      <th id=\"T_3e9ef_level0_row0\" class=\"row_heading level0 row0\" >1</th>\n",
       "      <td id=\"T_3e9ef_row0_col0\" class=\"data row0 col0\" >0.998719</td>\n",
       "      <td id=\"T_3e9ef_row0_col1\" class=\"data row0 col1\" >0.989761</td>\n",
       "      <td id=\"T_3e9ef_row0_col2\" class=\"data row0 col2\" >0.989751</td>\n",
       "    </tr>\n",
       "    <tr>\n",
       "      <th id=\"T_3e9ef_level0_row1\" class=\"row_heading level0 row1\" >3</th>\n",
       "      <td id=\"T_3e9ef_row1_col0\" class=\"data row1 col0\" >0.998862</td>\n",
       "      <td id=\"T_3e9ef_row1_col1\" class=\"data row1 col1\" >0.990899</td>\n",
       "      <td id=\"T_3e9ef_row1_col2\" class=\"data row1 col2\" >0.990901</td>\n",
       "    </tr>\n",
       "    <tr>\n",
       "      <th id=\"T_3e9ef_level0_row2\" class=\"row_heading level0 row2\" >5</th>\n",
       "      <td id=\"T_3e9ef_row2_col0\" class=\"data row2 col0\" >0.998877</td>\n",
       "      <td id=\"T_3e9ef_row2_col1\" class=\"data row2 col1\" >0.991024</td>\n",
       "      <td id=\"T_3e9ef_row2_col2\" class=\"data row2 col2\" >0.991016</td>\n",
       "    </tr>\n",
       "    <tr>\n",
       "      <th id=\"T_3e9ef_level0_row3\" class=\"row_heading level0 row3\" >7</th>\n",
       "      <td id=\"T_3e9ef_row3_col0\" class=\"data row3 col0\" >0.998875</td>\n",
       "      <td id=\"T_3e9ef_row3_col1\" class=\"data row3 col1\" >0.991003</td>\n",
       "      <td id=\"T_3e9ef_row3_col2\" class=\"data row3 col2\" >0.990996</td>\n",
       "    </tr>\n",
       "    <tr>\n",
       "      <th id=\"T_3e9ef_level0_row4\" class=\"row_heading level0 row4\" >9</th>\n",
       "      <td id=\"T_3e9ef_row4_col0\" class=\"data row4 col0\" >0.998885</td>\n",
       "      <td id=\"T_3e9ef_row4_col1\" class=\"data row4 col1\" >0.991083</td>\n",
       "      <td id=\"T_3e9ef_row4_col2\" class=\"data row4 col2\" >0.991079</td>\n",
       "    </tr>\n",
       "  </tbody>\n",
       "</table>\n"
      ],
      "text/plain": [
       "<pandas.io.formats.style.Styler at 0x2a723fe11f0>"
      ]
     },
     "execution_count": 10,
     "metadata": {},
     "output_type": "execute_result"
    }
   ],
   "source": [
    "final_frame = pd.DataFrame(zip(daccur,dprec,drecall),index=[1,3,5,7,9],columns=[\"Accuracy\",\"Precision\",\"Recall\"])\n",
    "final_frame = final_frame.style.set_caption('NORMAL DATA')\n",
    "final_frame"
   ]
  },
  {
   "cell_type": "code",
   "execution_count": 11,
   "id": "30c95b61",
   "metadata": {},
   "outputs": [
    {
     "data": {
      "text/html": [
       "<style type=\"text/css\">\n",
       "</style>\n",
       "<table id=\"T_fcff7\">\n",
       "  <caption>NORMALİZED DATA</caption>\n",
       "  <thead>\n",
       "    <tr>\n",
       "      <th class=\"blank level0\" >&nbsp;</th>\n",
       "      <th id=\"T_fcff7_level0_col0\" class=\"col_heading level0 col0\" >Accuracy</th>\n",
       "      <th id=\"T_fcff7_level0_col1\" class=\"col_heading level0 col1\" >Precision</th>\n",
       "      <th id=\"T_fcff7_level0_col2\" class=\"col_heading level0 col2\" >Recall</th>\n",
       "    </tr>\n",
       "  </thead>\n",
       "  <tbody>\n",
       "    <tr>\n",
       "      <th id=\"T_fcff7_level0_row0\" class=\"row_heading level0 row0\" >1</th>\n",
       "      <td id=\"T_fcff7_row0_col0\" class=\"data row0 col0\" >0.999431</td>\n",
       "      <td id=\"T_fcff7_row0_col1\" class=\"data row0 col1\" >0.995439</td>\n",
       "      <td id=\"T_fcff7_row0_col2\" class=\"data row0 col2\" >0.995460</td>\n",
       "    </tr>\n",
       "    <tr>\n",
       "      <th id=\"T_fcff7_level0_row1\" class=\"row_heading level0 row1\" >3</th>\n",
       "      <td id=\"T_fcff7_row1_col0\" class=\"data row1 col0\" >0.999810</td>\n",
       "      <td id=\"T_fcff7_row1_col1\" class=\"data row1 col1\" >0.998480</td>\n",
       "      <td id=\"T_fcff7_row1_col2\" class=\"data row1 col2\" >0.998479</td>\n",
       "    </tr>\n",
       "    <tr>\n",
       "      <th id=\"T_fcff7_level0_row2\" class=\"row_heading level0 row2\" >5</th>\n",
       "      <td id=\"T_fcff7_row2_col0\" class=\"data row2 col0\" >0.999937</td>\n",
       "      <td id=\"T_fcff7_row2_col1\" class=\"data row2 col1\" >0.999495</td>\n",
       "      <td id=\"T_fcff7_row2_col2\" class=\"data row2 col2\" >0.999504</td>\n",
       "    </tr>\n",
       "    <tr>\n",
       "      <th id=\"T_fcff7_level0_row3\" class=\"row_heading level0 row3\" >7</th>\n",
       "      <td id=\"T_fcff7_row3_col0\" class=\"data row3 col0\" >0.999969</td>\n",
       "      <td id=\"T_fcff7_row3_col1\" class=\"data row3 col1\" >0.999748</td>\n",
       "      <td id=\"T_fcff7_row3_col2\" class=\"data row3 col2\" >0.999751</td>\n",
       "    </tr>\n",
       "    <tr>\n",
       "      <th id=\"T_fcff7_level0_row4\" class=\"row_heading level0 row4\" >9</th>\n",
       "      <td id=\"T_fcff7_row4_col0\" class=\"data row4 col0\" >0.999979</td>\n",
       "      <td id=\"T_fcff7_row4_col1\" class=\"data row4 col1\" >0.999834</td>\n",
       "      <td id=\"T_fcff7_row4_col2\" class=\"data row4 col2\" >0.999834</td>\n",
       "    </tr>\n",
       "  </tbody>\n",
       "</table>\n"
      ],
      "text/plain": [
       "<pandas.io.formats.style.Styler at 0x2a71f35db50>"
      ]
     },
     "execution_count": 11,
     "metadata": {},
     "output_type": "execute_result"
    }
   ],
   "source": [
    "final_frame2 = pd.DataFrame(zip(naccur,nprec,nrecall),index=[1,3,5,7,9],columns=[\"Accuracy\",\"Precision\",\"Recall\"])\n",
    "final_frame2 = final_frame2.style.set_caption('NORMALİZED DATA')\n",
    "final_frame2"
   ]
  },
  {
   "cell_type": "code",
   "execution_count": null,
   "id": "109057e6",
   "metadata": {},
   "outputs": [],
   "source": []
  }
 ],
 "metadata": {
  "kernelspec": {
   "display_name": "Python 3 (ipykernel)",
   "language": "python",
   "name": "python3"
  },
  "language_info": {
   "codemirror_mode": {
    "name": "ipython",
    "version": 3
   },
   "file_extension": ".py",
   "mimetype": "text/x-python",
   "name": "python",
   "nbconvert_exporter": "python",
   "pygments_lexer": "ipython3",
   "version": "3.9.13"
  }
 },
 "nbformat": 4,
 "nbformat_minor": 5
}
